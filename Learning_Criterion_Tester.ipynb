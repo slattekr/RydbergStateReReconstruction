{
 "cells": [
  {
   "cell_type": "code",
   "execution_count": 2,
   "id": "76babd06-9103-4ede-a2d9-72a8e46bfcad",
   "metadata": {},
   "outputs": [],
   "source": [
    "from dset_helpers import load_exact_Es\n",
    "import numpy as np\n",
    "from Learning_Criterion import learning_criterion"
   ]
  },
  {
   "cell_type": "code",
   "execution_count": 2,
   "id": "db9cc76e-270d-44b8-b2ae-2c646b1169ab",
   "metadata": {},
   "outputs": [],
   "source": [
    "def learning_criterion(rnn_E, dim, var, C):\n",
    "    exact_E = load_exact_Es(dim)\n",
    "    num_samples = dim * dim\n",
    "    st_dev = np.sqrt(var)\n",
    "    eps = np.maximum((exact_E - (rnn_E + C * st_dev * np.sqrt(num_samples)))/exact_E, (exact_E - (rnn_E - C * st_dev * np.sqrt(num_samples)))/exact_E)\n",
    "    return eps\n",
    "            "
   ]
  },
  {
   "cell_type": "code",
   "execution_count": 5,
   "id": "9ea3db34-6c8e-4932-b239-258e20640e93",
   "metadata": {},
   "outputs": [],
   "source": [
    "load_exact_Es(16)\n",
    "exact_E = load_exact_Es(16)\n",
    "rnn_E = -0.501\n",
    "num_samples = 16*16\n",
    "C = 2.576\n",
    "st_dev = np.sqrt(0.932)"
   ]
  },
  {
   "cell_type": "code",
   "execution_count": 6,
   "id": "4c5dba1b-9494-4f29-952b-ef61196ed294",
   "metadata": {},
   "outputs": [
    {
     "data": {
      "text/plain": [
       "104.2521995438528"
      ]
     },
     "execution_count": 6,
     "metadata": {},
     "output_type": "execute_result"
    }
   ],
   "source": [
    "learning_criterion(rnn_E, 16, .932, 2.576)"
   ]
  },
  {
   "cell_type": "code",
   "execution_count": 10,
   "id": "10c331ba-2782-41b4-b033-3cafe7bfd585",
   "metadata": {},
   "outputs": [
    {
     "name": "stdout",
     "output_type": "stream",
     "text": [
      "0.9654014708917736\n"
     ]
    }
   ],
   "source": [
    "print(st_dev)"
   ]
  },
  {
   "cell_type": "code",
   "execution_count": null,
   "id": "62ec1c92-f425-40d3-acfc-48712badd267",
   "metadata": {},
   "outputs": [],
   "source": []
  }
 ],
 "metadata": {
  "kernelspec": {
   "display_name": "Python 3 (ipykernel)",
   "language": "python",
   "name": "python3"
  },
  "language_info": {
   "codemirror_mode": {
    "name": "ipython",
    "version": 3
   },
   "file_extension": ".py",
   "mimetype": "text/x-python",
   "name": "python",
   "nbconvert_exporter": "python",
   "pygments_lexer": "ipython3",
   "version": "3.9.7"
  }
 },
 "nbformat": 4,
 "nbformat_minor": 5
}
